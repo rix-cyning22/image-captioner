{
  "cells": [
    {
      "cell_type": "markdown",
      "metadata": {
        "id": "yzIr_XH-LHAf"
      },
      "source": [
        "#Importing the Libraries and Files"
      ]
    },
    {
      "cell_type": "code",
      "execution_count": null,
      "metadata": {
        "id": "0fB54IUUTCKU"
      },
      "outputs": [],
      "source": [
        "import os\n",
        "import pickle\n",
        "from tqdm.notebook import tqdm\n",
        "from tensorflow.keras.preprocessing import image, text, sequence\n",
        "from tensorflow.keras.models import Model, load_model\n",
        "from tensorflow.keras.utils import to_categorical, plot_model, pad_sequences\n",
        "from tensorflow.keras import layers\n",
        "from google.colab import files, drive\n",
        "from time import time\n",
        "import pandas as pd\n",
        "import re\n",
        "import gc\n",
        "import random\n",
        "import numpy as np\n",
        "from tensorflow.data import Dataset, AUTOTUNE\n",
        "import tensorflow as tf"
      ]
    },
    {
      "cell_type": "code",
      "execution_count": null,
      "metadata": {
        "id": "q77auGUQTbIc"
      },
      "outputs": [],
      "source": [
        "if \"kaggle.json\" not in os.listdir():\n",
        "  files.upload()\n",
        "  !pip install kaggle\n",
        "  !mkdir -p ~/.kaggle\n",
        "  !cp kaggle.json ~/.kaggle/\n",
        "  !chmod 600 /root/.kaggle/kaggle.json\n",
        "  !kaggle datasets download -d nunenuh/flickr30k\n",
        "  !unzip -q /content/flickr30k.zip"
      ]
    },
    {
      "cell_type": "code",
      "execution_count": null,
      "metadata": {
        "id": "bzEtl8XVCnM-"
      },
      "outputs": [],
      "source": [
        "features = {}\n",
        "feature_fileloc = \"features-extracted.pkl\"\n",
        "start_time = time()\n",
        "if feature_fileloc not in os.listdir():\n",
        "  img_path = \"/content/images/flickr30k_images/\"\n",
        "  dir_files = os.listdir(img_path)\n",
        "  tot_files = len(dir_files)\n",
        "\n",
        "  effnet = tf.keras.applications.EfficientNetB0()\n",
        "  feature_extractor = Model(inputs=effnet.inputs,\n",
        "                            outputs=effnet.layers[-2].output)\n",
        "\n",
        "  for _ in range(tot_files - 25000):\n",
        "    dir_files.remove(random.choice(dir_files))\n",
        "  gc.collect()\n",
        "  tot_files = 25000\n",
        "\n",
        "  for img_no, img_name in enumerate(dir_files):\n",
        "    img = image.load_img(img_path + img_name,\n",
        "                        target_size=(224, 224))\n",
        "    img = image.img_to_array(img)\n",
        "    img_arr = img.reshape((1, img.shape[0], img.shape[1], img.shape[2]))\n",
        "    feat_extracted = feature_extractor.predict(img_arr,\n",
        "                                  verbose=0)\n",
        "    features[img_name] = feat_extracted\n",
        "    if (img_no + 1) % 200 == 0:\n",
        "      passed = time() - start_time\n",
        "      eta = passed * (tot_files/img_no - 1)\n",
        "      print(f\"{img_no+1} of {tot_files} Time Passed: {passed: .2f} ETA: {eta: .2f}\")\n",
        "\n",
        "  with open(feature_fileloc, \"wb\") as feature_file:\n",
        "    pickle.dump(features, feature_file)\n",
        "  del features\n",
        "  gc.collect()\n",
        "else:\n",
        "  with open(feature_fileloc, \"rb\") as feature_file:\n",
        "    features = pickle.load(feature_file)"
      ]
    },
    {
      "cell_type": "code",
      "execution_count": null,
      "metadata": {
        "id": "bV0CX3ScYwyE"
      },
      "outputs": [],
      "source": [
        "df = pd.read_csv(\"/content/captions.txt\", sep=\"|\")\n",
        "df = df[df.image_name.isin(features.keys())]"
      ]
    },
    {
      "cell_type": "code",
      "execution_count": null,
      "metadata": {
        "id": "nI0QQh1NYCy_"
      },
      "outputs": [],
      "source": [
        "def clean(text):\n",
        "  text = text.lower()\n",
        "  text = re.sub(r\"[^a-z ]\", \"\", text)\n",
        "  text = re.sub(r\"\\s+\", \" \", text)\n",
        "  text = \"<startseq> \" + text + \" <endseq>\"\n",
        "  return text\n",
        "\n",
        "df[\"caption_text\"] = df.caption_text.map(clean)"
      ]
    },
    {
      "cell_type": "code",
      "execution_count": null,
      "metadata": {
        "id": "PXZdBl5HNvce"
      },
      "outputs": [],
      "source": [
        "captions = {}\n",
        "for i, row in df.iterrows():\n",
        "  if row.image_name not in captions:\n",
        "    captions[row.image_name] = [row.caption_text]\n",
        "  else:\n",
        "    captions[row.image_name].append(row.caption_text)"
      ]
    },
    {
      "cell_type": "code",
      "execution_count": null,
      "metadata": {
        "id": "wqund4yhWSvI"
      },
      "outputs": [],
      "source": [
        "corpus = []\n",
        "for v in captions.values():\n",
        "  corpus += v"
      ]
    },
    {
      "cell_type": "code",
      "execution_count": null,
      "metadata": {
        "id": "lXqj0utxXqoy",
        "colab": {
          "base_uri": "https://localhost:8080/"
        },
        "outputId": "65ebdb9a-fd3b-4f2e-86f3-673ff97fdf96"
      },
      "outputs": [
        {
          "output_type": "execute_result",
          "data": {
            "text/plain": [
              "17951"
            ]
          },
          "metadata": {},
          "execution_count": 8
        }
      ],
      "source": [
        "tokenizer = text.Tokenizer()\n",
        "tokenizer.fit_on_texts(corpus)\n",
        "voc_size = len(tokenizer.word_index) + 1\n",
        "voc_size"
      ]
    },
    {
      "cell_type": "markdown",
      "metadata": {
        "id": "pmMK6oeeZosE"
      },
      "source": [
        "#Splitting the data into train, validation and test sets"
      ]
    },
    {
      "cell_type": "code",
      "execution_count": null,
      "metadata": {
        "id": "HcOLx4nXcE8V"
      },
      "outputs": [],
      "source": [
        "img_files = features.keys()\n",
        "tot_files = len(img_files)"
      ]
    },
    {
      "cell_type": "code",
      "execution_count": null,
      "metadata": {
        "id": "kjAC47pDcBEn"
      },
      "outputs": [],
      "source": [
        "def split_data(data_size):\n",
        "  img_no = 0\n",
        "  data = set()\n",
        "  while img_no < data_size:\n",
        "    new_img = random.choice(list(img_files))\n",
        "    if new_img not in data:\n",
        "      data.add(new_img)\n",
        "      img_no += 1\n",
        "  return data"
      ]
    },
    {
      "cell_type": "code",
      "execution_count": null,
      "metadata": {
        "id": "vn7TDee4aXTN"
      },
      "outputs": [],
      "source": [
        "train_size = int(0.9 * tot_files)\n",
        "\n",
        "train_data = split_data(train_size)\n",
        "val_data = img_files - train_data\n",
        "\n",
        "train_data = list(train_data)\n",
        "val_data = list(val_data)"
      ]
    },
    {
      "cell_type": "markdown",
      "metadata": {
        "id": "6U157PYZeG2E"
      },
      "source": [
        "#Creating data generator to load the data in batches"
      ]
    },
    {
      "cell_type": "code",
      "execution_count": null,
      "metadata": {
        "id": "DHZxMl9rnVEN"
      },
      "outputs": [],
      "source": [
        "maxlen = max(len(caption.split()) for caption in corpus)"
      ]
    },
    {
      "cell_type": "code",
      "execution_count": null,
      "metadata": {
        "id": "E3YC5P_seVbj"
      },
      "outputs": [],
      "source": [
        "def gen_batches(data_keys, mapping,\n",
        "                features, tokenizer,\n",
        "                max_length, vocab_size,\n",
        "                batch_size):\n",
        "  x_img, x_text, y = [], [], []\n",
        "  n = 0\n",
        "  while True:\n",
        "    for key in data_keys:\n",
        "      n += 1\n",
        "      img_captions = mapping[key]\n",
        "      for caption in img_captions:\n",
        "        seq = tokenizer.texts_to_sequences([caption])[0]\n",
        "        for i in range(len(seq)):\n",
        "          context, future = seq[:i], seq[i]\n",
        "\n",
        "          context = pad_sequences([context],\n",
        "                                  maxlen=maxlen)[0]\n",
        "          future = to_categorical([future],\n",
        "                                  num_classes=voc_size)[0]\n",
        "\n",
        "          x_img.append(features[key][0])\n",
        "          x_text.append(context)\n",
        "          y.append(future)\n",
        "\n",
        "      if n==batch_size or key==len(data_keys):\n",
        "        x_img, x_text, y = np.array(x_img), np.array(x_text), np.array(y)\n",
        "        yield [x_img, x_text], y\n",
        "        x_img, x_text, y = [], [], []\n",
        "        n = 0"
      ]
    },
    {
      "cell_type": "markdown",
      "metadata": {
        "id": "lmOnHlY3px_9"
      },
      "source": [
        "#Creating the model"
      ]
    },
    {
      "cell_type": "markdown",
      "metadata": {
        "id": "xdUeldMwrWvc"
      },
      "source": [
        "## encoder"
      ]
    },
    {
      "cell_type": "markdown",
      "metadata": {
        "id": "rAXxJyYJqSUJ"
      },
      "source": [
        "### image encoder"
      ]
    },
    {
      "cell_type": "code",
      "execution_count": null,
      "metadata": {
        "id": "L_Z6frGXpZX1"
      },
      "outputs": [],
      "source": [
        "input_img = layers.Input(shape=(1280,))\n",
        "img_encoder = layers.Dropout(0.4)(input_img)\n",
        "img_encoder = layers.Dense(256, activation=\"relu\")(img_encoder)"
      ]
    },
    {
      "cell_type": "markdown",
      "metadata": {
        "id": "gUy6YKnOqU41"
      },
      "source": [
        "### text encoder"
      ]
    },
    {
      "cell_type": "code",
      "execution_count": null,
      "metadata": {
        "id": "PcCxj6NlqXk1"
      },
      "outputs": [],
      "source": [
        "input_seq = layers.Input(shape=(maxlen, ))\n",
        "seq_encoder = layers.Embedding(voc_size, 256,\n",
        "                               mask_zero=True)(input_seq)\n",
        "seq_encoder = layers.Dropout(0.5)(seq_encoder)\n",
        "seq_encoder = layers.LSTM(256)(seq_encoder)"
      ]
    },
    {
      "cell_type": "markdown",
      "metadata": {
        "id": "WQAiOgdOrbU5"
      },
      "source": [
        "## decoder"
      ]
    },
    {
      "cell_type": "code",
      "execution_count": null,
      "metadata": {
        "id": "fTwTAYHTrM4d"
      },
      "outputs": [],
      "source": [
        "decoder = layers.add([img_encoder, seq_encoder])\n",
        "decoder = layers.Dense(256, activation=\"relu\")(decoder)\n",
        "output = layers.Dense(voc_size,\n",
        "                      activation=\"softmax\",\n",
        "                      name=\"next_word_layer\")(decoder)"
      ]
    },
    {
      "cell_type": "markdown",
      "metadata": {
        "id": "SAdfoduWr3J-"
      },
      "source": [
        "## Combining and Compiling"
      ]
    },
    {
      "cell_type": "code",
      "execution_count": null,
      "metadata": {
        "id": "WvCd84zhr2o6"
      },
      "outputs": [],
      "source": [
        "model = Model(inputs=[input_img, input_seq],\n",
        "              outputs=output,\n",
        "              name=\"ImageCaptioner\")"
      ]
    },
    {
      "cell_type": "code",
      "execution_count": null,
      "metadata": {
        "id": "maFPgJGPsIgx"
      },
      "outputs": [],
      "source": [
        "model.compile(optimizer=tf.keras.optimizers.Adam(),\n",
        "              loss=tf.keras.losses.CategoricalCrossentropy())"
      ]
    },
    {
      "cell_type": "code",
      "execution_count": null,
      "metadata": {
        "colab": {
          "base_uri": "https://localhost:8080/"
        },
        "id": "GHIsq0ots5_h",
        "outputId": "53305f13-2679-476c-dee3-ef6144bca885"
      },
      "outputs": [
        {
          "output_type": "stream",
          "name": "stdout",
          "text": [
            "Model: \"ImageCaptioner\"\n",
            "__________________________________________________________________________________________________\n",
            " Layer (type)                Output Shape                 Param #   Connected to                  \n",
            "==================================================================================================\n",
            " input_2 (InputLayer)        [(None, 80)]                 0         []                            \n",
            "                                                                                                  \n",
            " input_1 (InputLayer)        [(None, 1280)]               0         []                            \n",
            "                                                                                                  \n",
            " embedding (Embedding)       (None, 80, 256)              4595456   ['input_2[0][0]']             \n",
            "                                                                                                  \n",
            " dropout (Dropout)           (None, 1280)                 0         ['input_1[0][0]']             \n",
            "                                                                                                  \n",
            " dropout_1 (Dropout)         (None, 80, 256)              0         ['embedding[0][0]']           \n",
            "                                                                                                  \n",
            " dense (Dense)               (None, 256)                  327936    ['dropout[0][0]']             \n",
            "                                                                                                  \n",
            " lstm (LSTM)                 (None, 256)                  525312    ['dropout_1[0][0]']           \n",
            "                                                                                                  \n",
            " add (Add)                   (None, 256)                  0         ['dense[0][0]',               \n",
            "                                                                     'lstm[0][0]']                \n",
            "                                                                                                  \n",
            " dense_1 (Dense)             (None, 256)                  65792     ['add[0][0]']                 \n",
            "                                                                                                  \n",
            " next_word_layer (Dense)     (None, 17951)                4613407   ['dense_1[0][0]']             \n",
            "                                                                                                  \n",
            "==================================================================================================\n",
            "Total params: 10127903 (38.63 MB)\n",
            "Trainable params: 10127903 (38.63 MB)\n",
            "Non-trainable params: 0 (0.00 Byte)\n",
            "__________________________________________________________________________________________________\n"
          ]
        }
      ],
      "source": [
        "model.summary()"
      ]
    },
    {
      "cell_type": "code",
      "execution_count": null,
      "metadata": {
        "colab": {
          "base_uri": "https://localhost:8080/",
          "height": 754
        },
        "id": "EXoL4yg_suQT",
        "outputId": "2dd30cc8-b6dd-4246-9fba-da0df64b8f88"
      },
      "outputs": [
        {
          "output_type": "execute_result",
          "data": {
            "image/png": "[encoded data removed]",
            "text/plain": [
              "<IPython.core.display.Image object>"
            ]
          },
          "metadata": {},
          "execution_count": 20
        }
      ],
      "source": [
        "plot_model(model,\n",
        "           show_shapes=True)"
      ]
    },
    {
      "cell_type": "markdown",
      "metadata": {
        "id": "4tXE4X24tTu2"
      },
      "source": [
        "##Training the model"
      ]
    },
    {
      "cell_type": "code",
      "execution_count": null,
      "metadata": {
        "id": "qepgJQ5Zs-sb"
      },
      "outputs": [],
      "source": [
        "epochs = 20\n",
        "batch_size = 32\n",
        "epoch_steps = len(train_data)//batch_size"
      ]
    },
    {
      "cell_type": "code",
      "execution_count": null,
      "metadata": {
        "id": "7C6cEK1nOXro"
      },
      "outputs": [],
      "source": [
        "train_gen = gen_batches(train_data, captions, features,\n",
        "                        tokenizer, maxlen, voc_size, batch_size)\n",
        "val_gen = train_gen = gen_batches(val_data, captions, features,\n",
        "                        tokenizer, maxlen, voc_size, batch_size)"
      ]
    },
    {
      "cell_type": "code",
      "execution_count": null,
      "metadata": {
        "colab": {
          "base_uri": "https://localhost:8080/"
        },
        "id": "5ZCly-_7wY4g",
        "outputId": "08cfb9d6-a0e2-4616-9a37-fb44c80cae33"
      },
      "outputs": [
        {
          "output_type": "stream",
          "name": "stdout",
          "text": [
            "703/703 [==============================] - 456s 637ms/step - loss: 3.8110\n",
            "703/703 [==============================] - 425s 604ms/step - loss: 2.3356\n",
            "703/703 [==============================] - 426s 606ms/step - loss: 1.8590\n",
            "703/703 [==============================] - 425s 604ms/step - loss: 1.5700\n",
            "703/703 [==============================] - 422s 600ms/step - loss: 1.3735\n",
            "703/703 [==============================] - 423s 602ms/step - loss: 1.2345\n",
            "703/703 [==============================] - 424s 603ms/step - loss: 1.1198\n",
            "703/703 [==============================] - 426s 606ms/step - loss: 1.0416\n",
            "703/703 [==============================] - 422s 600ms/step - loss: 0.9647\n",
            "703/703 [==============================] - 416s 592ms/step - loss: 0.9063\n",
            "703/703 [==============================] - 420s 596ms/step - loss: 0.8585\n",
            "703/703 [==============================] - 420s 598ms/step - loss: 0.8248\n",
            "703/703 [==============================] - 422s 601ms/step - loss: 0.7857\n",
            "703/703 [==============================] - 423s 601ms/step - loss: 0.7492\n",
            "703/703 [==============================] - 420s 596ms/step - loss: 0.7173\n",
            "703/703 [==============================] - 421s 599ms/step - loss: 0.6903\n",
            "703/703 [==============================] - 419s 596ms/step - loss: 0.6727\n",
            "703/703 [==============================] - 423s 601ms/step - loss: 0.6491\n",
            "444/703 [=================>............] - ETA: 2:38 - loss: 0.6359"
          ]
        }
      ],
      "source": [
        "for i in range(epochs):\n",
        "  model.fit(train_gen,\n",
        "            epochs=1,\n",
        "            steps_per_epoch=epoch_steps)\n",
        "  gc.collect()"
      ]
    },
    {
      "cell_type": "code",
      "execution_count": null,
      "metadata": {
        "id": "cAXNIVtbwRnj"
      },
      "outputs": [],
      "source": [
        "model.save(\"image_captioner.keras\")"
      ]
    },
    {
      "cell_type": "code",
      "execution_count": null,
      "metadata": {
        "id": "K15v09IivpfA"
      },
      "outputs": [],
      "source": [
        "model = load_model(\"/content/image_captioner.keras\")"
      ]
    },
    {
      "cell_type": "code",
      "execution_count": null,
      "metadata": {
        "id": "884YZgSe0Gpi"
      },
      "outputs": [],
      "source": [
        "with open(\"tokenizer.pkl\", \"wb\") as tokenizer_file:\n",
        "  pickle.dump(tokenizer, tokenizer_file)"
      ]
    },
    {
      "cell_type": "code",
      "source": [
        "with open(\"tokenizer.pkl\", \"rb\") as tok_file:\n",
        "  tokenizer = pickle.load(tok_file)"
      ],
      "metadata": {
        "id": "IbDIlT_G-b4H"
      },
      "execution_count": null,
      "outputs": []
    },
    {
      "cell_type": "code",
      "execution_count": null,
      "metadata": {
        "id": "lWUE5N-CuBCX"
      },
      "outputs": [],
      "source": [
        "from matplotlib import pyplot as plt\n",
        "from PIL import Image\n",
        "\n",
        "def gen_caption(model, img_path, tokenizer, max_length):\n",
        "  text = \"<startseq>\"\n",
        "  img = image.load_img(img_path,\n",
        "                        target_size=(224, 224))\n",
        "  img = image.img_to_array(img)\n",
        "  img_arr = img.reshape((1, img.shape[0], img.shape[1], img.shape[2]))\n",
        "  feat_extracted = feature_extractor.predict(img_arr,\n",
        "                                 verbose=0)\n",
        "\n",
        "  for i in range(max_length):\n",
        "    seq = tokenizer.texts_to_sequences([text])[0]\n",
        "    seq = pad_sequences([seq], max_length)[0]\n",
        "    y_pred = np.argmax(model.predict([feat_extracted, np.array([seq])],\n",
        "                                     verbose=0))\n",
        "    word = tokenizer.sequences_to_texts(np.array([[y_pred]]))[0]\n",
        "    if not word or word == \"endseq\":\n",
        "      break\n",
        "    text += \" \" + word\n",
        "  plt.imshow(Image.open(img_path))\n",
        "  plt.axis(\"off\")\n",
        "  plt.suptitle(\" \".join(text.split()[1:]))\n",
        "  # return \" \".join(text.split()[1:])"
      ]
    },
    {
      "cell_type": "code",
      "source": [
        "effnet = tf.keras.applications.EfficientNetB0()\n",
        "feature_extractor = Model(inputs=effnet.inputs,\n",
        "                            outputs=effnet.layers[-2].output)"
      ],
      "metadata": {
        "id": "V8AAxoUw18Rw"
      },
      "execution_count": null,
      "outputs": []
    },
    {
      "cell_type": "code",
      "execution_count": null,
      "metadata": {
        "id": "s6LT26kV2_FQ"
      },
      "outputs": [],
      "source": [
        "gen_caption(model, \"/content/images/86132021.jpg\", tokenizer, 80)"
      ]
    },
    {
      "cell_type": "code",
      "source": [
        "df[df.caption_text.str.contains(\"naked\")]"
      ],
      "metadata": {
        "id": "k3nTu4_1SIHR"
      },
      "execution_count": null,
      "outputs": []
    }
  ],
  "metadata": {
    "accelerator": "GPU",
    "colab": {
      "provenance": [],
      "gpuType": "T4"
    },
    "kernelspec": {
      "display_name": "Python 3",
      "name": "python3"
    },
    "language_info": {
      "name": "python"
    }
  },
  "nbformat": 4,
  "nbformat_minor": 0
}